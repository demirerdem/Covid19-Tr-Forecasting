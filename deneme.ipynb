{
 "cells": [
  {
   "cell_type": "markdown",
   "id": "coral-catalyst",
   "metadata": {},
   "source": [
    "### LSTM (Bitmedi..)"
   ]
  },
  {
   "cell_type": "code",
   "execution_count": 250,
   "id": "pleasant-lloyd",
   "metadata": {},
   "outputs": [],
   "source": [
    "import pandas as pd\n",
    "import numpy as np\n",
    "import matplotlib.pylab as plt \n",
    "import matplotlib.patches as mpatches\n",
    "from keras.layers.core import Dense,Activation,Dropout,Flatten,Reshape\n",
    "from keras.layers import LSTM\n",
    "from keras.models import Sequential\n",
    "from sklearn.preprocessing import MinMaxScaler\n"
   ]
  },
  {
   "cell_type": "code",
   "execution_count": 284,
   "id": "otherwise-encoding",
   "metadata": {},
   "outputs": [
    {
     "data": {
      "text/html": [
       "<div>\n",
       "<style scoped>\n",
       "    .dataframe tbody tr th:only-of-type {\n",
       "        vertical-align: middle;\n",
       "    }\n",
       "\n",
       "    .dataframe tbody tr th {\n",
       "        vertical-align: top;\n",
       "    }\n",
       "\n",
       "    .dataframe thead th {\n",
       "        text-align: right;\n",
       "    }\n",
       "</style>\n",
       "<table border=\"1\" class=\"dataframe\">\n",
       "  <thead>\n",
       "    <tr style=\"text-align: right;\">\n",
       "      <th></th>\n",
       "      <th>Bugünkü Vaka Sayısı</th>\n",
       "      <th>Tarih</th>\n",
       "    </tr>\n",
       "  </thead>\n",
       "  <tbody>\n",
       "    <tr>\n",
       "      <th>0</th>\n",
       "      <td>1</td>\n",
       "      <td>2020-03-11</td>\n",
       "    </tr>\n",
       "    <tr>\n",
       "      <th>1</th>\n",
       "      <td>0</td>\n",
       "      <td>2020-03-12</td>\n",
       "    </tr>\n",
       "    <tr>\n",
       "      <th>2</th>\n",
       "      <td>4</td>\n",
       "      <td>2020-03-13</td>\n",
       "    </tr>\n",
       "    <tr>\n",
       "      <th>3</th>\n",
       "      <td>1</td>\n",
       "      <td>2020-03-14</td>\n",
       "    </tr>\n",
       "    <tr>\n",
       "      <th>4</th>\n",
       "      <td>12</td>\n",
       "      <td>2020-03-15</td>\n",
       "    </tr>\n",
       "    <tr>\n",
       "      <th>...</th>\n",
       "      <td>...</td>\n",
       "      <td>...</td>\n",
       "    </tr>\n",
       "    <tr>\n",
       "      <th>404</th>\n",
       "      <td>55149</td>\n",
       "      <td>2021-04-19</td>\n",
       "    </tr>\n",
       "    <tr>\n",
       "      <th>405</th>\n",
       "      <td>61028</td>\n",
       "      <td>2021-04-20</td>\n",
       "    </tr>\n",
       "    <tr>\n",
       "      <th>406</th>\n",
       "      <td>61967</td>\n",
       "      <td>2021-04-21</td>\n",
       "    </tr>\n",
       "    <tr>\n",
       "      <th>407</th>\n",
       "      <td>54791</td>\n",
       "      <td>2021-04-22</td>\n",
       "    </tr>\n",
       "    <tr>\n",
       "      <th>408</th>\n",
       "      <td>49438</td>\n",
       "      <td>2021-04-23</td>\n",
       "    </tr>\n",
       "  </tbody>\n",
       "</table>\n",
       "<p>409 rows × 2 columns</p>\n",
       "</div>"
      ],
      "text/plain": [
       "     Bugünkü Vaka Sayısı       Tarih\n",
       "0                      1  2020-03-11\n",
       "1                      0  2020-03-12\n",
       "2                      4  2020-03-13\n",
       "3                      1  2020-03-14\n",
       "4                     12  2020-03-15\n",
       "..                   ...         ...\n",
       "404                55149  2021-04-19\n",
       "405                61028  2021-04-20\n",
       "406                61967  2021-04-21\n",
       "407                54791  2021-04-22\n",
       "408                49438  2021-04-23\n",
       "\n",
       "[409 rows x 2 columns]"
      ]
     },
     "execution_count": 284,
     "metadata": {},
     "output_type": "execute_result"
    }
   ],
   "source": [
    "lstm_df = df[[\"Bugünkü Vaka Sayısı\", \"Tarih\"]]\n",
    "lstm_df"
   ]
  },
  {
   "cell_type": "code",
   "execution_count": 285,
   "id": "civilian-access",
   "metadata": {},
   "outputs": [
    {
     "name": "stderr",
     "output_type": "stream",
     "text": [
      "D:\\C\\anaconda3\\lib\\site-packages\\pandas\\core\\frame.py:4308: SettingWithCopyWarning: \n",
      "A value is trying to be set on a copy of a slice from a DataFrame\n",
      "\n",
      "See the caveats in the documentation: https://pandas.pydata.org/pandas-docs/stable/user_guide/indexing.html#returning-a-view-versus-a-copy\n",
      "  return super().drop(\n"
     ]
    }
   ],
   "source": [
    "lstm_df.index = lstm_df[\"Tarih\"]\n",
    "lstm_df.index = pd.DatetimeIndex(lstm_df.index)\n",
    "lstm_df.drop([\"Tarih\"], axis=1, inplace=True)"
   ]
  },
  {
   "cell_type": "code",
   "execution_count": 286,
   "id": "straight-patch",
   "metadata": {},
   "outputs": [
    {
     "data": {
      "text/html": [
       "<div>\n",
       "<style scoped>\n",
       "    .dataframe tbody tr th:only-of-type {\n",
       "        vertical-align: middle;\n",
       "    }\n",
       "\n",
       "    .dataframe tbody tr th {\n",
       "        vertical-align: top;\n",
       "    }\n",
       "\n",
       "    .dataframe thead th {\n",
       "        text-align: right;\n",
       "    }\n",
       "</style>\n",
       "<table border=\"1\" class=\"dataframe\">\n",
       "  <thead>\n",
       "    <tr style=\"text-align: right;\">\n",
       "      <th></th>\n",
       "      <th>Bugünkü Vaka Sayısı</th>\n",
       "    </tr>\n",
       "    <tr>\n",
       "      <th>Tarih</th>\n",
       "      <th></th>\n",
       "    </tr>\n",
       "  </thead>\n",
       "  <tbody>\n",
       "    <tr>\n",
       "      <th>2020-03-11</th>\n",
       "      <td>1</td>\n",
       "    </tr>\n",
       "    <tr>\n",
       "      <th>2020-03-12</th>\n",
       "      <td>0</td>\n",
       "    </tr>\n",
       "    <tr>\n",
       "      <th>2020-03-13</th>\n",
       "      <td>4</td>\n",
       "    </tr>\n",
       "    <tr>\n",
       "      <th>2020-03-14</th>\n",
       "      <td>1</td>\n",
       "    </tr>\n",
       "    <tr>\n",
       "      <th>2020-03-15</th>\n",
       "      <td>12</td>\n",
       "    </tr>\n",
       "    <tr>\n",
       "      <th>...</th>\n",
       "      <td>...</td>\n",
       "    </tr>\n",
       "    <tr>\n",
       "      <th>2021-04-19</th>\n",
       "      <td>55149</td>\n",
       "    </tr>\n",
       "    <tr>\n",
       "      <th>2021-04-20</th>\n",
       "      <td>61028</td>\n",
       "    </tr>\n",
       "    <tr>\n",
       "      <th>2021-04-21</th>\n",
       "      <td>61967</td>\n",
       "    </tr>\n",
       "    <tr>\n",
       "      <th>2021-04-22</th>\n",
       "      <td>54791</td>\n",
       "    </tr>\n",
       "    <tr>\n",
       "      <th>2021-04-23</th>\n",
       "      <td>49438</td>\n",
       "    </tr>\n",
       "  </tbody>\n",
       "</table>\n",
       "<p>409 rows × 1 columns</p>\n",
       "</div>"
      ],
      "text/plain": [
       "            Bugünkü Vaka Sayısı\n",
       "Tarih                          \n",
       "2020-03-11                    1\n",
       "2020-03-12                    0\n",
       "2020-03-13                    4\n",
       "2020-03-14                    1\n",
       "2020-03-15                   12\n",
       "...                         ...\n",
       "2021-04-19                55149\n",
       "2021-04-20                61028\n",
       "2021-04-21                61967\n",
       "2021-04-22                54791\n",
       "2021-04-23                49438\n",
       "\n",
       "[409 rows x 1 columns]"
      ]
     },
     "execution_count": 286,
     "metadata": {},
     "output_type": "execute_result"
    }
   ],
   "source": [
    "lstm_df"
   ]
  },
  {
   "cell_type": "code",
   "execution_count": 310,
   "id": "northern-calvin",
   "metadata": {},
   "outputs": [],
   "source": [
    "scaler = MinMaxScaler(feature_range=(0,1))\n",
    "ts = scaler.fit_transform(lstm_df)"
   ]
  },
  {
   "cell_type": "code",
   "execution_count": 311,
   "id": "decimal-breathing",
   "metadata": {},
   "outputs": [],
   "source": [
    "timestep=3\n",
    "X=[]\n",
    "Y=[]\n",
    "\n",
    "data = ts\n",
    "\n",
    "for i in range(len(data)-timestep):\n",
    "    X.append(data[i:i+timestep])\n",
    "    Y.append(data[i+timestep])\n",
    "\n",
    "X = np.asanyarray(X)\n",
    "Y = np.asanyarray(Y)\n",
    "\n",
    "X = X.reshape((X.shape[0],X.shape[1],1))\n",
    "\n",
    "\n",
    "k = 59\n",
    "Xtrain = X[:k,:,:]\n",
    "Ytrain = Y[:k]\n",
    "\n",
    "Xtest = X[k:,:,:]\n",
    "Ytest = Y[k:]"
   ]
  },
  {
   "cell_type": "code",
   "execution_count": 312,
   "id": "optional-demand",
   "metadata": {
    "collapsed": true,
    "jupyter": {
     "outputs_hidden": true
    },
    "tags": []
   },
   "outputs": [
    {
     "name": "stdout",
     "output_type": "stream",
     "text": [
      "Epoch 1/50\n",
      "1/1 [==============================] - 4s 4s/step - loss: 0.0020\n",
      "Epoch 2/50\n",
      "1/1 [==============================] - 0s 12ms/step - loss: 6.1338e-04\n",
      "Epoch 3/50\n",
      "1/1 [==============================] - 0s 14ms/step - loss: 4.9151e-04\n",
      "Epoch 4/50\n",
      "1/1 [==============================] - 0s 12ms/step - loss: 4.4878e-04\n",
      "Epoch 5/50\n",
      "1/1 [==============================] - 0s 18ms/step - loss: 4.4691e-04\n",
      "Epoch 6/50\n",
      "1/1 [==============================] - 0s 18ms/step - loss: 4.2435e-04\n",
      "Epoch 7/50\n",
      "1/1 [==============================] - 0s 11ms/step - loss: 4.5887e-04\n",
      "Epoch 8/50\n",
      "1/1 [==============================] - 0s 19ms/step - loss: 4.0805e-04\n",
      "Epoch 9/50\n",
      "1/1 [==============================] - 0s 15ms/step - loss: 4.1293e-04\n",
      "Epoch 10/50\n",
      "1/1 [==============================] - 0s 21ms/step - loss: 3.8001e-04\n",
      "Epoch 11/50\n",
      "1/1 [==============================] - 0s 15ms/step - loss: 3.5341e-04\n",
      "Epoch 12/50\n",
      "1/1 [==============================] - 0s 15ms/step - loss: 3.4036e-04\n",
      "Epoch 13/50\n",
      "1/1 [==============================] - 0s 19ms/step - loss: 3.4784e-04\n",
      "Epoch 14/50\n",
      "1/1 [==============================] - 0s 14ms/step - loss: 3.4584e-04\n",
      "Epoch 15/50\n",
      "1/1 [==============================] - 0s 16ms/step - loss: 3.4167e-04\n",
      "Epoch 16/50\n",
      "1/1 [==============================] - 0s 17ms/step - loss: 2.9404e-04\n",
      "Epoch 17/50\n",
      "1/1 [==============================] - 0s 14ms/step - loss: 3.5835e-04\n",
      "Epoch 18/50\n",
      "1/1 [==============================] - 0s 22ms/step - loss: 3.8516e-04\n",
      "Epoch 19/50\n",
      "1/1 [==============================] - 0s 13ms/step - loss: 3.6786e-04\n",
      "Epoch 20/50\n",
      "1/1 [==============================] - 0s 13ms/step - loss: 3.4015e-04\n",
      "Epoch 21/50\n",
      "1/1 [==============================] - 0s 16ms/step - loss: 2.7085e-04\n",
      "Epoch 22/50\n",
      "1/1 [==============================] - 0s 14ms/step - loss: 2.3365e-04\n",
      "Epoch 23/50\n",
      "1/1 [==============================] - 0s 14ms/step - loss: 2.3568e-04\n",
      "Epoch 24/50\n",
      "1/1 [==============================] - 0s 14ms/step - loss: 2.0498e-04\n",
      "Epoch 25/50\n",
      "1/1 [==============================] - 0s 17ms/step - loss: 2.0820e-04\n",
      "Epoch 26/50\n",
      "1/1 [==============================] - 0s 14ms/step - loss: 2.1346e-04\n",
      "Epoch 27/50\n",
      "1/1 [==============================] - 0s 19ms/step - loss: 2.2473e-04\n",
      "Epoch 28/50\n",
      "1/1 [==============================] - 0s 16ms/step - loss: 2.5127e-04\n",
      "Epoch 29/50\n",
      "1/1 [==============================] - 0s 15ms/step - loss: 2.4647e-04\n",
      "Epoch 30/50\n",
      "1/1 [==============================] - 0s 17ms/step - loss: 2.0453e-04\n",
      "Epoch 31/50\n",
      "1/1 [==============================] - 0s 11ms/step - loss: 2.1722e-04\n",
      "Epoch 32/50\n",
      "1/1 [==============================] - 0s 17ms/step - loss: 2.0433e-04\n",
      "Epoch 33/50\n",
      "1/1 [==============================] - 0s 16ms/step - loss: 1.7174e-04\n",
      "Epoch 34/50\n",
      "1/1 [==============================] - 0s 14ms/step - loss: 1.7568e-04\n",
      "Epoch 35/50\n",
      "1/1 [==============================] - 0s 12ms/step - loss: 1.7180e-04\n",
      "Epoch 36/50\n",
      "1/1 [==============================] - 0s 19ms/step - loss: 1.7242e-04\n",
      "Epoch 37/50\n",
      "1/1 [==============================] - 0s 12ms/step - loss: 1.3466e-04\n",
      "Epoch 38/50\n",
      "1/1 [==============================] - 0s 13ms/step - loss: 1.5945e-04\n",
      "Epoch 39/50\n",
      "1/1 [==============================] - 0s 13ms/step - loss: 1.9247e-04\n",
      "Epoch 40/50\n",
      "1/1 [==============================] - 0s 20ms/step - loss: 2.1183e-04\n",
      "Epoch 41/50\n",
      "1/1 [==============================] - 0s 11ms/step - loss: 1.7343e-04\n",
      "Epoch 42/50\n",
      "1/1 [==============================] - 0s 17ms/step - loss: 1.8872e-04\n",
      "Epoch 43/50\n",
      "1/1 [==============================] - 0s 15ms/step - loss: 1.7994e-04\n",
      "Epoch 44/50\n",
      "1/1 [==============================] - 0s 15ms/step - loss: 1.8078e-04\n",
      "Epoch 45/50\n",
      "1/1 [==============================] - 0s 15ms/step - loss: 1.6522e-04\n",
      "Epoch 46/50\n",
      "1/1 [==============================] - 0s 18ms/step - loss: 1.6303e-04\n",
      "Epoch 47/50\n",
      "1/1 [==============================] - 0s 11ms/step - loss: 1.5760e-04\n",
      "Epoch 48/50\n",
      "1/1 [==============================] - 0s 18ms/step - loss: 1.7534e-04\n",
      "Epoch 49/50\n",
      "1/1 [==============================] - 0s 13ms/step - loss: 1.3334e-04\n",
      "Epoch 50/50\n",
      "1/1 [==============================] - 0s 11ms/step - loss: 1.1824e-04\n"
     ]
    },
    {
     "data": {
      "text/plain": [
       "<tensorflow.python.keras.callbacks.History at 0x19dd1d877f0>"
      ]
     },
     "execution_count": 312,
     "metadata": {},
     "output_type": "execute_result"
    }
   ],
   "source": [
    "lstm_model = Sequential()\n",
    "lstm_model.add(LSTM(64,batch_input_shape=(None,timestep,1),return_sequences=True))\n",
    "lstm_model.add(Dropout(0.2))\n",
    "lstm_model.add(LSTM(32, return_sequences=False))\n",
    "lstm_model.add(Dropout(0.2))\n",
    "lstm_model.add(Dense(1))\n",
    "\n",
    "lstm_model.compile(loss='mse',optimizer='rmsprop')\n",
    "lstm_model.fit(Xtrain, Ytrain, batch_size=512, epochs=50)"
   ]
  },
  {
   "cell_type": "code",
   "execution_count": 313,
   "id": "premier-botswana",
   "metadata": {},
   "outputs": [],
   "source": [
    "Ypred = lstm_model.predict(X)\n",
    "\n",
    "Ypred = scaler.inverse_transform(Ypred)\n",
    "Ypred = Ypred[:,0]"
   ]
  },
  {
   "cell_type": "code",
   "execution_count": 314,
   "id": "developing-closure",
   "metadata": {},
   "outputs": [
    {
     "data": {
      "image/png": "[encoded data removed]",
      "text/plain": [
       "<Figure size 432x288 with 1 Axes>"
      ]
     },
     "metadata": {
      "needs_background": "light"
     },
     "output_type": "display_data"
    }
   ],
   "source": [
    "Yreel = lstm_df[timestep:].values\n",
    "\n",
    "plt.plot(Yreel,label='Yreel',color='blue')\n",
    "plt.plot(Ypred,label='Ypred',color='red')\n",
    "\n",
    "blue_patch = mpatches.Patch(color='blue', label='Yreel')\n",
    "red_patch = mpatches.Patch(color='red', label='Ypred')\n",
    "plt.legend(handles = [blue_patch,red_patch])\n",
    "plt.title('RMSE: %.4f'% np.sqrt(sum((Ypred.reshape(-1,1)-Yreel.reshape(-1,1))**2)/len(Yreel)).astype(int))\n",
    "plt.show()"
   ]
  },
  {
   "cell_type": "code",
   "execution_count": null,
   "id": "exotic-stream",
   "metadata": {},
   "outputs": [],
   "source": []
  },
  {
   "cell_type": "code",
   "execution_count": null,
   "id": "heated-banner",
   "metadata": {},
   "outputs": [],
   "source": []
  },
  {
   "cell_type": "markdown",
   "id": "confirmed-hybrid",
   "metadata": {},
   "source": [
    "### PROPHET (FACEBOOK)"
   ]
  },
  {
   "cell_type": "code",
   "execution_count": 411,
   "id": "armed-pharmacy",
   "metadata": {},
   "outputs": [],
   "source": [
    "#!pip install pystan==2.19.1.1\n",
    "#!conda install -c conda-forge prophet -y\n",
    "#!pip install prophet"
   ]
  },
  {
   "cell_type": "code",
   "execution_count": 107,
   "id": "virtual-brain",
   "metadata": {},
   "outputs": [
    {
     "ename": "ModuleNotFoundError",
     "evalue": "No module named 'prophet'",
     "output_type": "error",
     "traceback": [
      "\u001b[1;31m---------------------------------------------------------------------------\u001b[0m",
      "\u001b[1;31mModuleNotFoundError\u001b[0m                       Traceback (most recent call last)",
      "\u001b[1;32m<ipython-input-107-a5f73520e9d5>\u001b[0m in \u001b[0;36m<module>\u001b[1;34m\u001b[0m\n\u001b[1;32m----> 1\u001b[1;33m \u001b[1;32mfrom\u001b[0m \u001b[0mprophet\u001b[0m \u001b[1;32mimport\u001b[0m \u001b[0mProphet\u001b[0m\u001b[1;33m\u001b[0m\u001b[1;33m\u001b[0m\u001b[0m\n\u001b[0m",
      "\u001b[1;31mModuleNotFoundError\u001b[0m: No module named 'prophet'"
     ]
    }
   ],
   "source": [
    "from prophet import Prophet"
   ]
  },
  {
   "cell_type": "code",
   "execution_count": 401,
   "id": "decent-canvas",
   "metadata": {},
   "outputs": [
    {
     "data": {
      "text/html": [
       "<div>\n",
       "<style scoped>\n",
       "    .dataframe tbody tr th:only-of-type {\n",
       "        vertical-align: middle;\n",
       "    }\n",
       "\n",
       "    .dataframe tbody tr th {\n",
       "        vertical-align: top;\n",
       "    }\n",
       "\n",
       "    .dataframe thead th {\n",
       "        text-align: right;\n",
       "    }\n",
       "</style>\n",
       "<table border=\"1\" class=\"dataframe\">\n",
       "  <thead>\n",
       "    <tr style=\"text-align: right;\">\n",
       "      <th></th>\n",
       "      <th>Tarih</th>\n",
       "      <th>Bugünkü Vaka Sayısı</th>\n",
       "    </tr>\n",
       "  </thead>\n",
       "  <tbody>\n",
       "    <tr>\n",
       "      <th>0</th>\n",
       "      <td>2020-03-11</td>\n",
       "      <td>1</td>\n",
       "    </tr>\n",
       "    <tr>\n",
       "      <th>1</th>\n",
       "      <td>2020-03-12</td>\n",
       "      <td>0</td>\n",
       "    </tr>\n",
       "    <tr>\n",
       "      <th>2</th>\n",
       "      <td>2020-03-13</td>\n",
       "      <td>4</td>\n",
       "    </tr>\n",
       "    <tr>\n",
       "      <th>3</th>\n",
       "      <td>2020-03-14</td>\n",
       "      <td>1</td>\n",
       "    </tr>\n",
       "    <tr>\n",
       "      <th>4</th>\n",
       "      <td>2020-03-15</td>\n",
       "      <td>12</td>\n",
       "    </tr>\n",
       "    <tr>\n",
       "      <th>...</th>\n",
       "      <td>...</td>\n",
       "      <td>...</td>\n",
       "    </tr>\n",
       "    <tr>\n",
       "      <th>404</th>\n",
       "      <td>2021-04-19</td>\n",
       "      <td>55149</td>\n",
       "    </tr>\n",
       "    <tr>\n",
       "      <th>405</th>\n",
       "      <td>2021-04-20</td>\n",
       "      <td>61028</td>\n",
       "    </tr>\n",
       "    <tr>\n",
       "      <th>406</th>\n",
       "      <td>2021-04-21</td>\n",
       "      <td>61967</td>\n",
       "    </tr>\n",
       "    <tr>\n",
       "      <th>407</th>\n",
       "      <td>2021-04-22</td>\n",
       "      <td>54791</td>\n",
       "    </tr>\n",
       "    <tr>\n",
       "      <th>408</th>\n",
       "      <td>2021-04-23</td>\n",
       "      <td>49438</td>\n",
       "    </tr>\n",
       "  </tbody>\n",
       "</table>\n",
       "<p>409 rows × 2 columns</p>\n",
       "</div>"
      ],
      "text/plain": [
       "          Tarih  Bugünkü Vaka Sayısı\n",
       "0    2020-03-11                    1\n",
       "1    2020-03-12                    0\n",
       "2    2020-03-13                    4\n",
       "3    2020-03-14                    1\n",
       "4    2020-03-15                   12\n",
       "..          ...                  ...\n",
       "404  2021-04-19                55149\n",
       "405  2021-04-20                61028\n",
       "406  2021-04-21                61967\n",
       "407  2021-04-22                54791\n",
       "408  2021-04-23                49438\n",
       "\n",
       "[409 rows x 2 columns]"
      ]
     },
     "execution_count": 401,
     "metadata": {},
     "output_type": "execute_result"
    }
   ],
   "source": [
    "prophet_df = df[[\"Tarih\", \"Bugünkü Vaka Sayısı\"]]\n",
    "prophet_df"
   ]
  },
  {
   "cell_type": "code",
   "execution_count": null,
   "id": "serious-plain",
   "metadata": {},
   "outputs": [],
   "source": [
    "m = Prophet(interval_width=0.95)\n",
    "m.fit(confirmed)\n",
    "future = m.make_future_dataframe(periods=7)\n",
    "future_confirmed = future.copy() # for non-baseline predictions later on\n",
    "future.tail()"
   ]
  }
 ],
 "metadata": {
  "kernelspec": {
   "display_name": "Python 3",
   "language": "python",
   "name": "python3"
  },
  "language_info": {
   "codemirror_mode": {
    "name": "ipython",
    "version": 3
   },
   "file_extension": ".py",
   "mimetype": "text/x-python",
   "name": "python",
   "nbconvert_exporter": "python",
   "pygments_lexer": "ipython3",
   "version": "3.8.3"
  }
 },
 "nbformat": 4,
 "nbformat_minor": 5
}
